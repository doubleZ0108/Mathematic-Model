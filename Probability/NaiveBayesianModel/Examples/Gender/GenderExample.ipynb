{
 "cells": [
  {
   "cell_type": "markdown",
   "metadata": {},
   "source": [
    "| 性别 | 身高(英尺) | 体重(磅) | 脚掌(英寸) |\n",
    "| ---- | ----- | ----- | ----- |\n",
    "| **男**   | 6                          | 180      | 12        |\n",
    "| **男**   | 5.92                       | 190                      | 11                         |\n",
    "| **男**   | 5.58                       | 170                      | 12                         |\n",
    "| **男**   | 5.92                       | 165                      | 10                         |\n",
    "| **女**   | 5                          | 100                      | 6                          |\n",
    "| **女**   | 5.5                        | 150                      | 8                          |\n",
    "| **女**   | 5.42                       | 130                      | 7                          |\n",
    "某人身高6英尺、体重130磅，脚掌8英寸，请问该人是男是女?"
   ]
  },
  {
   "cell_type": "code",
   "execution_count": 2,
   "metadata": {},
   "outputs": [],
   "source": [
    "from sklearn.naive_bayes import GaussianNB\n",
    "import numpy as np"
   ]
  },
  {
   "cell_type": "code",
   "execution_count": 3,
   "metadata": {},
   "outputs": [],
   "source": [
    "data = np.loadtxt('genderData.txt')\n",
    "x, y = data[:,0:-1], data[:, -1]"
   ]
  },
  {
   "cell_type": "code",
   "execution_count": 4,
   "metadata": {},
   "outputs": [
    {
     "name": "stdout",
     "output_type": "stream",
     "text": [
      "[0.]\n"
     ]
    }
   ],
   "source": [
    "bayes = GaussianNB()\n",
    "model = bayes.fit(x, y)\n",
    "xNew = np.array([[6, 130, 8]])\n",
    "pred = model.predict(xNew)\n",
    "print(pred)  # 未知样本是女性"
   ]
  }
 ],
 "metadata": {
  "kernelspec": {
   "display_name": "Python 3",
   "language": "python",
   "name": "python3"
  },
  "language_info": {
   "codemirror_mode": {
    "name": "ipython",
    "version": 3
   },
   "file_extension": ".py",
   "mimetype": "text/x-python",
   "name": "python",
   "nbconvert_exporter": "python",
   "pygments_lexer": "ipython3",
   "version": "3.7.4"
  },
  "toc": {
   "base_numbering": 1,
   "nav_menu": {},
   "number_sections": true,
   "sideBar": true,
   "skip_h1_title": false,
   "title_cell": "Table of Contents",
   "title_sidebar": "Contents",
   "toc_cell": false,
   "toc_position": {},
   "toc_section_display": true,
   "toc_window_display": false
  }
 },
 "nbformat": 4,
 "nbformat_minor": 2
}
