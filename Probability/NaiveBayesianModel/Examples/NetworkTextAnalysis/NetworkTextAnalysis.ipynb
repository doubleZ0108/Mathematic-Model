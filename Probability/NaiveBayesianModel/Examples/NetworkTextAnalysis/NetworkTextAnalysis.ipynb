{
 "cells": [
  {
   "cell_type": "markdown",
   "metadata": {},
   "source": [
    "## 网络文本分析\n",
    "### 关键词提取\n",
    "- 通过jieba分词，找到终点关键词\n",
    "- in判断句中是否含有关键字\n",
    "- 集那个特征编排成行向量，出现特征用1表示，否则以0表示\n",
    "![image.png](https://upload-images.jianshu.io/upload_images/12014150-96fdfc1bc86c84d9.png?imageMogr2/auto-orient/strip%7CimageView2/2/w/1240)"
   ]
  },
  {
   "cell_type": "code",
   "execution_count": 1,
   "metadata": {},
   "outputs": [],
   "source": [
    "import numpy as np\n",
    "def formFeature(lines, featureWores):\n",
    "    \"\"\"\n",
    "    根据评语，获得转换矩阵\n",
    "    :param lines: 所有评价语句\n",
    "    :param featureWores: 关键字\n",
    "    \"\"\"\n",
    "    feature = []\n",
    "    for s in lines:\n",
    "        oneFeature = []\n",
    "        for w in featureWores:\n",
    "            oneFeature.append(1) if w in s else oneFeature.append(0)\n",
    "        feature.append(oneFeature)\n",
    "    return np.array(feature)"
   ]
  },
  {
   "cell_type": "code",
   "execution_count": 2,
   "metadata": {},
   "outputs": [
    {
     "name": "stderr",
     "output_type": "stream",
     "text": [
      "Building prefix dict from the default dictionary ...\n",
      "Loading model from cache /var/folders/tp/qr45dkh55lq5cg9thgcn5dvw0000gn/T/jieba.cache\n",
      "Loading model cost 0.647 seconds.\n",
      "Prefix dict has been built successfully.\n"
     ]
    },
    {
     "name": "stdout",
     "output_type": "stream",
     "text": [
      "{'太上': 1, '上当': 1, '当了': 1, '骗子': 2, '!': 2, '好': 4, '东西': 2, '赞': 2, '一': 1, '穿': 2, '上衣': 1, '衣服': 1, '帅呆了': 1, '给': 1, '点': 1, '一万': 1, '一万个': 1, '万个': 1, '帅': 1, '哦': 1, '卖家': 1, '很': 7, '诚实': 1, '服务': 1, '服务态度': 1, '态度': 1, '货真价实': 1, '根本': 1, '根本就是': 1, '就是': 1, '假': 1, '的': 1, '面料': 1, '上': 1, '舒服': 1, '修身': 1, '一点': 1, '也': 2, '不显': 1, '显得': 1, '臃肿': 1, '。': 1, '喜欢': 1, '版型': 1, '好看': 1, '看穿': 1, '穿着': 1, '舒适': 1, '质量': 1, '做工': 1, '都': 1, '物有所': 1, '物有所值': 1, '有所': 1, '值': 1}\n",
      "('很', 7)\n",
      "('好', 4)\n"
     ]
    }
   ],
   "source": [
    "'''分词统计字频率，挑选关键特征字词'''\n",
    "import jieba\n",
    "from collections import Counter\n",
    "f = open('text.txt')\n",
    "lines = f.readlines()\n",
    "debate = []  # 评价语\n",
    "ans = np.zeros((len(lines), 1))  # 用户结论\n",
    "for i in range(len(lines)):\n",
    "    oneLine = lines[i]\n",
    "    info = oneLine.split()\n",
    "    debate.append(info[0])\n",
    "    ans[i,0] = float(info[1])\n",
    "\n",
    "al = jieba.lcut(''.join(debate), cut_all=True)  # 用户的所有评价词\n",
    "al = [elem for elem in al if elem!='，']  # 过滤空格\n",
    "al = dict(Counter(al))  # 词典，每个词出现的频率\n",
    "print(al)\n",
    "res = list(reversed(sorted(al.items(), key=lambda x: x[1])))  # 从大到小排序\n",
    "res = list(filter(lambda x: x[1]>2, res))  # 过滤掉次数小于3的词\n",
    "for i in res:\n",
    "    print(i)"
   ]
  },
  {
   "cell_type": "code",
   "execution_count": 3,
   "metadata": {},
   "outputs": [],
   "source": [
    "featuresWords = ['赞','差','太差','帅','起球','不好','货真价实','上当']\n",
    "feature = formFeature(debate, featuresWords)"
   ]
  },
  {
   "cell_type": "code",
   "execution_count": 5,
   "metadata": {},
   "outputs": [
    {
     "name": "stdout",
     "output_type": "stream",
     "text": [
      "[0. 1.]\n"
     ]
    },
    {
     "name": "stderr",
     "output_type": "stream",
     "text": [
      "/Users/doublez/opt/anaconda3/lib/python3.7/site-packages/sklearn/utils/validation.py:724: DataConversionWarning: A column-vector y was passed when a 1d array was expected. Please change the shape of y to (n_samples, ), for example using ravel().\n",
      "  y = column_or_1d(y, warn=True)\n"
     ]
    }
   ],
   "source": [
    "from sklearn.naive_bayes import GaussianNB\n",
    "bayes = GaussianNB()\n",
    "model = bayes.fit(feature, ans)\n",
    "newDebate = [\"这么差的衣服以后再也不买了\",\"帅呆了，赞\"]\n",
    "feature1 = formFeature(newDebate, featuresWords)\n",
    "pred = model.predict(feature1)\n",
    "print(pred)  # 第一条是差评，第二条是好评"
   ]
  },
  {
   "cell_type": "code",
   "execution_count": null,
   "metadata": {},
   "outputs": [],
   "source": []
  }
 ],
 "metadata": {
  "kernelspec": {
   "display_name": "Python 3",
   "language": "python",
   "name": "python3"
  },
  "language_info": {
   "codemirror_mode": {
    "name": "ipython",
    "version": 3
   },
   "file_extension": ".py",
   "mimetype": "text/x-python",
   "name": "python",
   "nbconvert_exporter": "python",
   "pygments_lexer": "ipython3",
   "version": "3.7.4"
  },
  "toc": {
   "base_numbering": 1,
   "nav_menu": {},
   "number_sections": true,
   "sideBar": true,
   "skip_h1_title": false,
   "title_cell": "Table of Contents",
   "title_sidebar": "Contents",
   "toc_cell": false,
   "toc_position": {},
   "toc_section_display": true,
   "toc_window_display": false
  }
 },
 "nbformat": 4,
 "nbformat_minor": 2
}
