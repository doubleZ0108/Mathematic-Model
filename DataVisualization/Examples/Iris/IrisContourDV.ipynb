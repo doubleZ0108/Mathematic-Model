{
 "cells": [
  {
   "cell_type": "code",
   "execution_count": 1,
   "metadata": {},
   "outputs": [],
   "source": [
    "'''准备数据'''\n",
    "import numpy as np\n",
    "from sklearn.cross_decomposition import PLSRegression\n",
    "from sklearn import datasets\n",
    "\n",
    "iris = datasets.load_iris()  # 从数据库中获取数据\n",
    "data, target = iris.data, iris.target  # 获取自变量；样本的分类信息\n",
    "X, y = data[target!=2], target[target!=2]  # 取鸢尾花的前两类\n",
    "\n",
    "ally = []\n",
    "for i in range(len(y)):  # 转正交编码\n",
    "    oneY = [0,1] if y[i]==1 else [1,0]\n",
    "    ally.append(oneY)\n",
    "Y = np.array(ally)"
   ]
  },
  {
   "cell_type": "code",
   "execution_count": 2,
   "metadata": {},
   "outputs": [],
   "source": [
    "'''建模 获取训练集得分'''\n",
    "from sklearn.model_selection import train_test_split\n",
    "X_train, X_test, y_train, y_test = train_test_split(X, Y, test_size=.2)\n",
    "pls = PLSRegression(n_components=2, scale=True)\n",
    "pls.fit(X_train, y_train)\n",
    "\n",
    "yTrainType = []\n",
    "for item in y_train:\n",
    "    yTrainType.append(np.argmax(item))  # 最大值对应的下标\n",
    "yTrainType = np.array(yTrainType)\n",
    "T = pls.x_scores_"
   ]
  },
  {
   "cell_type": "code",
   "execution_count": 3,
   "metadata": {},
   "outputs": [],
   "source": [
    "'''计算测试集得分'''\n",
    "xavg, xstd = X_train.mean(axis=0), X_train.std(axis=0)\n",
    "X_test = (X_test - xavg) / xstd  # 数据预处理\n",
    "Tpred = None  # 记录测试集得分\n",
    "for i in range(2):\n",
    "    t = X_test.dot(pls.x_weights_[:,i])\n",
    "    Tpred = t if Tpred is None else np.c_[Tpred, t]\n",
    "    X_test -= np.outer(t, pls.x_loadings_[:,i])\n",
    "yTestType = []  # 整理测试集样本的类别\n",
    "for item in y_test:\n",
    "    yTestType.append(np.argmax(item))"
   ]
  },
  {
   "cell_type": "code",
   "execution_count": 9,
   "metadata": {},
   "outputs": [
    {
     "data": {
      "text/plain": [
       "<matplotlib.collections.PathCollection at 0x123e39e90>"
      ]
     },
     "execution_count": 9,
     "metadata": {},
     "output_type": "execute_result"
    },
    {
     "data": {
      "image/png": "[encoded data removed]",
      "text/plain": [
       "<Figure size 432x288 with 1 Axes>"
      ]
     },
     "metadata": {
      "needs_background": "light"
     },
     "output_type": "display_data"
    }
   ],
   "source": [
    "'''制作散点图'''\n",
    "%matplotlib inline\n",
    "import matplotlib.pyplot as plt\n",
    "from matplotlib.colors import ListedColormap\n",
    "from mpl_toolkits.mplot3d import Axes3D\n",
    "cm_bright = ListedColormap(['#FF0000', '#0000FF'])\n",
    "\n",
    "ax = plt.subplot(1,1,1)\n",
    "# 画训练集点\n",
    "ax.scatter(T[:,0],T[:,1],c=yTrainType,cmap=cm_bright,s=25)\n",
    "# 画测试集点\n",
    "ax.scatter(Tpred[:,0],Tpred[:,1],c=yTestType,edgecolors='black',s=45)"
   ]
  },
  {
   "cell_type": "code",
   "execution_count": 10,
   "metadata": {},
   "outputs": [],
   "source": [
    "'''得分网络模拟'''\n",
    "# 堆叠概率等高线图，从二维得分空间转化到原始空间，设残差矩阵为0\n",
    "x_min, x_max, y_min, y_max = T[:,0].min()-.5, T[:,0].max()+.5, T[:,1].min()-.5, T[:,1].max()+.5\n",
    "h = .2\n",
    "\n",
    "xx, yy = np.meshgrid(np.arange(x_min, x_max,h), np.arange(y_min, y_max,h))\n",
    "\n",
    "Tmoni = np.c_[xx.ravel(), yy.ravel()]\n",
    "Xmoni = Tmoni.dot(pls.x_loadings_.T)  # 转换到原始变量空间\n",
    "Xmoni += xavg\n",
    "Xmoni *= xstd\n",
    "ymoniPred = pls.predict(Xmoni)\n",
    "exp = np.exp(ymoniPred)\n",
    "sumExp = np.sum(exp, axis=1, keepdims=True)\n",
    "softmax = exp/sumExp  # 转每类的概率\n",
    "Z = softmax[:,0]"
   ]
  },
  {
   "cell_type": "code",
   "execution_count": 11,
   "metadata": {
    "scrolled": true
   },
   "outputs": [
    {
     "data": {
      "text/plain": [
       "<a list of 5 text.Text objects>"
      ]
     },
     "execution_count": 11,
     "metadata": {},
     "output_type": "execute_result"
    }
   ],
   "source": [
    "'''制作概率的等高线图'''\n",
    "Z = Z.reshape(xx.shape)\n",
    "CS = ax.contour(xx,yy,Z,6,colors='k')\n",
    "ax.clabel(CS, fontsize=9,inline=1)"
   ]
  },
  {
   "cell_type": "code",
   "execution_count": null,
   "metadata": {},
   "outputs": [],
   "source": []
  }
 ],
 "metadata": {
  "kernelspec": {
   "display_name": "Python 3",
   "language": "python",
   "name": "python3"
  },
  "language_info": {
   "codemirror_mode": {
    "name": "ipython",
    "version": 3
   },
   "file_extension": ".py",
   "mimetype": "text/x-python",
   "name": "python",
   "nbconvert_exporter": "python",
   "pygments_lexer": "ipython3",
   "version": "3.7.4"
  },
  "toc": {
   "base_numbering": 1,
   "nav_menu": {},
   "number_sections": true,
   "sideBar": true,
   "skip_h1_title": false,
   "title_cell": "Table of Contents",
   "title_sidebar": "Contents",
   "toc_cell": false,
   "toc_position": {},
   "toc_section_display": true,
   "toc_window_display": false
  }
 },
 "nbformat": 4,
 "nbformat_minor": 2
}
