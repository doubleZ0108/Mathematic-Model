{
 "cells": [
  {
   "cell_type": "markdown",
   "metadata": {},
   "source": [
    "## 加载图像"
   ]
  },
  {
   "cell_type": "code",
   "execution_count": 1,
   "metadata": {},
   "outputs": [],
   "source": [
    "from PIL import Image\n",
    "import numpy as np\n",
    "import matplotlib.pyplot as plt\n",
    "\n",
    "im = Image.open(r'handwritting.png').convert('L')  # 转换为灰度图像\n",
    "im_arr = np.array(im)"
   ]
  },
  {
   "cell_type": "markdown",
   "metadata": {},
   "source": [
    "### 确定阈值"
   ]
  },
  {
   "cell_type": "code",
   "execution_count": 2,
   "metadata": {},
   "outputs": [
    {
     "data": {
      "image/png": "[encoded data removed]",
      "text/plain": [
       "<Figure size 432x288 with 1 Axes>"
      ]
     },
     "metadata": {
      "needs_background": "light"
     },
     "output_type": "display_data"
    }
   ],
   "source": [
    "plt.figure(\"hist\")\n",
    "arr = im_arr.flatten()\n",
    "n, bins, patches = plt.hist(arr, bins=256, density=1, facecolor='green', alpha=0.75)\n",
    "plt.show()\n",
    "# 阈值在143左右"
   ]
  },
  {
   "cell_type": "markdown",
   "metadata": {},
   "source": [
    "### 去除背景灰度 "
   ]
  },
  {
   "cell_type": "code",
   "execution_count": 3,
   "metadata": {},
   "outputs": [],
   "source": [
    "def convert_to_bw(im, threshold):\n",
    "    im = im.point(lambda x: 255 if x > threshold else 0)  # 阈值处理\n",
    "    im = im.convert('1')  # 黑白二值图像\n",
    "    return im\n",
    "im = convert_to_bw(im, 143)\n",
    "im.show()"
   ]
  },
  {
   "cell_type": "markdown",
   "metadata": {},
   "source": [
    "### 将小数字方块分割出来"
   ]
  },
  {
   "cell_type": "code",
   "execution_count": 4,
   "metadata": {},
   "outputs": [],
   "source": [
    "img_dirname = 'data/img/'\n",
    "def split(im):\n",
    "    assert im.mode=='1'\n",
    "    w, h = im.size\n",
    "    xs = [0, 31, 65, 91, 122, 150, 182, 211, 242, 271, w]\n",
    "    ys = [0, 47, 93, 137, 185, 232, h]\n",
    "    for i, x in enumerate(xs):\n",
    "        if i + 1 >= len(xs):\n",
    "            break\n",
    "        for j, y in enumerate(ys):\n",
    "            if j + 1 >= len(ys): \n",
    "                break\n",
    "            box = (x, y, xs[i+1], ys[j+1])  # 一个字符所在图像的位置\n",
    "            t = im.crop(box).copy()  # 将字符挖出来\n",
    "            t.save(img_dirname + str((i+1)%10) + '_' + str(j) + '.bmp')\n",
    "split(im)"
   ]
  },
  {
   "cell_type": "markdown",
   "metadata": {},
   "source": [
    "实际情况中如果字写的太大\n",
    "`t = t.resize((32,32), Image.ANTIALIAS)` 调整到32*32"
   ]
  },
  {
   "cell_type": "markdown",
   "metadata": {},
   "source": [
    "### 标准化\n",
    "提取出的每个字符图像，大小不一，字符在小图像中位置布局中\n",
    "希望每个图像大小都是32*32， 且字符的上下、左右边距一样"
   ]
  },
  {
   "cell_type": "code",
   "execution_count": 5,
   "metadata": {},
   "outputs": [],
   "source": [
    "img_32_32_dirname = 'data/img_32_32/'\n",
    "def standardizing_to_32_32(im, ii, jj):\n",
    "    w, h = im.size\n",
    "    xrow, ycol = [], []\n",
    "    for i in range(w):\n",
    "        for j in range(h):\n",
    "            pixel = im.getpixel((i,j))\n",
    "            if(pixel<1):\n",
    "                xrow.append(i)\n",
    "                ycol.append(j)\n",
    "                # 字符的长度、宽度\n",
    "                xLength, yLength = max(xrow)-min(xrow)+1, max(ycol)-min(ycol)+1\n",
    "                # 定义左、上、右、下的坐标\n",
    "                box = (min(xrow), min(ycol), max(xrow)+1, max(ycol)+1)\n",
    "                # 一个矩形区域的拷贝\n",
    "                t = im.crop(box).copy()\n",
    "                # 居中\n",
    "                xStart, yStart = (32-xLength)//2, (32-yLength)//2\n",
    "                bg = Image.new('RGB',(32,32),'white')\n",
    "                # 将一张图粘贴到另一张图像上\n",
    "                bg.paste(t, (xStart,yStart))\n",
    "                bg.save(img_32_32_dirname + str(ii) + '_' + str(jj) + \"_32_32.bmp\")\n",
    "            \n",
    "for i in range(10):\n",
    "    for j in range(6):\n",
    "        im = Image.open(img_dirname + str(i) + '_' + str(j) + '.bmp')\n",
    "        standardizing_to_32_32(im, i, j)"
   ]
  },
  {
   "cell_type": "markdown",
   "metadata": {},
   "source": [
    "## 数字特征表示\n",
    "将32*32的小图像分割成256个 2*2的范围，统计每个2*2的小方框中，像素值为0的个 数，由此将每个字符表达为256个数字组成的向量"
   ]
  },
  {
   "cell_type": "code",
   "execution_count": 6,
   "metadata": {},
   "outputs": [],
   "source": [
    "def featureExtract(im):\n",
    "    im = im.convert(\"1\")\n",
    "    y = np.array([0,1])\n",
    "    features = []\n",
    "    for j in range(16):\n",
    "        x = np.array([0,1])\n",
    "        for i in range(16):\n",
    "            box = (x[0],y[0],x[1]+1,y[1]+1)  # 2*2开区间\n",
    "            t = im.crop(box).copy()\n",
    "            count = 0.0\n",
    "            for ii in range(2):\n",
    "                for jj in range(2):\n",
    "                    pixel = t.getpixel((ii,jj))\n",
    "                    if(pixel < 1):\n",
    "                        count += 1.0\n",
    "            features.append(count)\n",
    "            x += 2  # 整个矩阵向右平移\n",
    "        y += 2\n",
    "    return features\n",
    "\n",
    "netTrainDataInput = []  # 存储输入数据 X\n",
    "netTrainDataOutput = [] # 存储输出点真值 Y\n",
    "for i in range(10):\n",
    "    outNode = [0.0]*10\n",
    "    outNode[i] = 1.0  # 训练集函数的真值，每种模式对应的位置数字为1\n",
    "    for j in range(6):\n",
    "        im = Image.open(img_32_32_dirname + str(i) + '_' + str(j) + '_32_32.bmp')\n",
    "        f = featureExtract(im)\n",
    "        netTrainDataInput.append(f)\n",
    "        netTrainDataOutput.append(outNode)\n",
    "X = np.array(netTrainDataInput)\n",
    "y = np.array(netTrainDataOutput)"
   ]
  },
  {
   "cell_type": "markdown",
   "metadata": {},
   "source": [
    "## 神经网络\n",
    "- 输入层：256向量\n",
    "- 输出层：正交编码\n",
    "- 中间层：64（注意过拟合）"
   ]
  },
  {
   "cell_type": "code",
   "execution_count": 7,
   "metadata": {},
   "outputs": [
    {
     "name": "stdout",
     "output_type": "stream",
     "text": [
      "预测得分:  0.5\n",
      "预测值:  [[0 0 0 0 0 1 0 0 0 0]\n",
      " [0 1 0 0 0 0 0 0 0 0]\n",
      " [0 0 0 0 0 0 0 0 0 0]\n",
      " [0 0 0 1 0 0 0 0 0 0]\n",
      " [0 0 0 0 0 0 0 0 0 0]\n",
      " [0 0 0 1 0 1 0 0 0 0]]\n",
      "真值 [[0. 0. 0. 0. 0. 1. 0. 0. 0. 0.]\n",
      " [0. 1. 0. 0. 0. 0. 0. 0. 0. 0.]\n",
      " [0. 0. 0. 0. 0. 0. 1. 0. 0. 0.]\n",
      " [0. 0. 0. 1. 0. 0. 0. 0. 0. 0.]\n",
      " [0. 0. 0. 0. 0. 1. 0. 0. 0. 0.]\n",
      " [0. 0. 0. 0. 0. 1. 0. 0. 0. 0.]]\n"
     ]
    }
   ],
   "source": [
    "from sklearn.model_selection import train_test_split\n",
    "from sklearn.preprocessing import StandardScaler\n",
    "from sklearn.neural_network import MLPClassifier\n",
    "\n",
    "# 标准画数据\n",
    "X = StandardScaler().fit_transform(X)\n",
    "X_train, X_test, y_train, y_test = train_test_split(X, y, test_size=.1)\n",
    "# 交叉验证\n",
    "clf = MLPClassifier(solver='lbfgs', hidden_layer_sizes=(100,),alpha=1e-5,random_state=1,max_iter=8000)\n",
    "clf.fit(X_train, y_train)\n",
    "\n",
    "score = clf.score(X_test, y_test)\n",
    "print('预测得分: ', score)\n",
    "yhat = clf.predict(X_test)\n",
    "print('预测值: ', yhat)\n",
    "print('真值', y_test)"
   ]
  }
 ],
 "metadata": {
  "kernelspec": {
   "display_name": "Python 3",
   "language": "python",
   "name": "python3"
  },
  "language_info": {
   "codemirror_mode": {
    "name": "ipython",
    "version": 3
   },
   "file_extension": ".py",
   "mimetype": "text/x-python",
   "name": "python",
   "nbconvert_exporter": "python",
   "pygments_lexer": "ipython3",
   "version": "3.7.4"
  },
  "toc": {
   "base_numbering": 1,
   "nav_menu": {},
   "number_sections": true,
   "sideBar": true,
   "skip_h1_title": false,
   "title_cell": "Table of Contents",
   "title_sidebar": "Contents",
   "toc_cell": false,
   "toc_position": {},
   "toc_section_display": true,
   "toc_window_display": false
  }
 },
 "nbformat": 4,
 "nbformat_minor": 2
}
