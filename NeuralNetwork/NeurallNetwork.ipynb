{
 "cells": [
  {
   "cell_type": "code",
   "execution_count": 1,
   "metadata": {},
   "outputs": [],
   "source": [
    "import numpy as np\n",
    "from sklearn.model_selection import train_test_split\n",
    "import matplotlib.pyplot as plt"
   ]
  },
  {
   "cell_type": "code",
   "execution_count": 2,
   "metadata": {},
   "outputs": [
    {
     "data": {
      "text/plain": [
       "[<matplotlib.lines.Line2D at 0x1101cbb50>]"
      ]
     },
     "execution_count": 2,
     "metadata": {},
     "output_type": "execute_result"
    },
    {
     "data": {
      "image/png": "[encoded data removed]",
      "text/plain": [
       "<Figure size 432x288 with 1 Axes>"
      ]
     },
     "metadata": {
      "needs_background": "light"
     },
     "output_type": "display_data"
    }
   ],
   "source": [
    "X,y = np.loadtxt(r'data/1x0.txt'), np.loadtxt(r'data/1y0.txt')\n",
    "plt.plot(X[y==1,0], X[y==1,1], 'b^')\n",
    "plt.plot(X[y!=1,0], X[y!=1,1], 'ro')"
   ]
  },
  {
   "cell_type": "code",
   "execution_count": 3,
   "metadata": {},
   "outputs": [],
   "source": [
    "'''数据分组，预处理（-1～1之间）'''\n",
    "Xtrain, Xtest, ytrain, ytest = train_test_split(X, y, test_size=.1)\n",
    "aver = Xtrain.mean(axis=0)\n",
    "Xtrain -= aver\n",
    "Xtemp = np.abs(Xtrain)\n",
    "colmax = Xtemp.max(axis=0)\n",
    "Xtrain /= colmax\n",
    "Xtest -= aver\n",
    "Xtest /= colmax"
   ]
  },
  {
   "cell_type": "code",
   "execution_count": 4,
   "metadata": {},
   "outputs": [],
   "source": [
    "'''对分类信息正交化'''\n",
    "labelstrain = []\n",
    "for i in range(len(ytrain)):\n",
    "    one = 2*[0]\n",
    "    if ytrain[i]==0:\n",
    "        one[0] = 1\n",
    "    else:\n",
    "        one[1] = 1\n",
    "    labelstrain.append(one)\n",
    "labelstrain = np.array(labelstrain)"
   ]
  },
  {
   "cell_type": "code",
   "execution_count": 5,
   "metadata": {},
   "outputs": [],
   "source": [
    "'''建模'''\n",
    "from NeuralNetwork import NeuralNetwork\n",
    "nn = NeuralNetwork([X.shape[1], 100, labelstrain.shape[1]], 'logistic')\n",
    "nn.fit(Xtrain, labelstrain, epochs=10000)"
   ]
  },
  {
   "cell_type": "code",
   "execution_count": 6,
   "metadata": {},
   "outputs": [
    {
     "name": "stdout",
     "output_type": "stream",
     "text": [
      "[1, 1, 1, 0, 0, 0, 1, 0, 1, 0]\n",
      "[1. 1. 1. 0. 1. 0. 1. 0. 0. 1.]\n"
     ]
    }
   ],
   "source": [
    "'''预测'''\n",
    "predictions = nn.predict(Xtest)\n",
    "print(predictions)\n",
    "print(ytest)"
   ]
  },
  {
   "cell_type": "code",
   "execution_count": 7,
   "metadata": {},
   "outputs": [
    {
     "name": "stdout",
     "output_type": "stream",
     "text": [
      "              precision    recall  f1-score   support\n",
      "\n",
      "         0.0       0.60      0.75      0.67         4\n",
      "         1.0       0.80      0.67      0.73         6\n",
      "\n",
      "    accuracy                           0.70        10\n",
      "   macro avg       0.70      0.71      0.70        10\n",
      "weighted avg       0.72      0.70      0.70        10\n",
      "\n"
     ]
    }
   ],
   "source": [
    "'''分类报告'''\n",
    "from sklearn.metrics import classification_report\n",
    "print(classification_report(ytest, predictions))"
   ]
  }
 ],
 "metadata": {
  "kernelspec": {
   "display_name": "Python 3",
   "language": "python",
   "name": "python3"
  },
  "language_info": {
   "codemirror_mode": {
    "name": "ipython",
    "version": 3
   },
   "file_extension": ".py",
   "mimetype": "text/x-python",
   "name": "python",
   "nbconvert_exporter": "python",
   "pygments_lexer": "ipython3",
   "version": "3.7.4"
  },
  "toc": {
   "base_numbering": 1,
   "nav_menu": {},
   "number_sections": true,
   "sideBar": true,
   "skip_h1_title": false,
   "title_cell": "Table of Contents",
   "title_sidebar": "Contents",
   "toc_cell": false,
   "toc_position": {},
   "toc_section_display": true,
   "toc_window_display": false
  }
 },
 "nbformat": 4,
 "nbformat_minor": 2
}
