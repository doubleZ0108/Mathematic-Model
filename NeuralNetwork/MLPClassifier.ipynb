{
 "cells": [
  {
   "cell_type": "code",
   "execution_count": 2,
   "metadata": {},
   "outputs": [],
   "source": [
    "import numpy as np\n",
    "from sklearn.model_selection import train_test_split\n",
    "from sklearn.preprocessing import StandardScaler\n",
    "from sklearn.neural_network import MLPClassifier"
   ]
  },
  {
   "cell_type": "code",
   "execution_count": 3,
   "metadata": {},
   "outputs": [],
   "source": [
    "X, y = np.loadtxt('data/1x1.txt'), np.loadtxt('data/1y1.txt')\n",
    "X = StandardScaler().fit_transform(X)  # X预处理列均值=0，方差=1\n",
    "X_train, X_test, y_train, y_test = train_test_split(X, y, test_size=.4)"
   ]
  },
  {
   "cell_type": "code",
   "execution_count": 4,
   "metadata": {},
   "outputs": [
    {
     "name": "stdout",
     "output_type": "stream",
     "text": [
      "score= 0.725\n",
      "[0. 1. 0. 1. 0. 1. 0. 1. 1. 0. 0. 0. 1. 0. 1. 1. 0. 0. 0. 0. 0. 0. 1. 1.\n",
      " 1. 0. 1. 0. 1. 1. 0. 0. 0. 0. 1. 1. 1. 0. 0. 1.]\n",
      "[0. 1. 1. 1. 1. 1. 1. 0. 0. 0. 0. 0. 1. 0. 1. 0. 0. 1. 0. 1. 0. 0. 1. 1.\n",
      " 1. 1. 1. 0. 1. 1. 0. 0. 1. 0. 1. 1. 1. 0. 1. 1.]\n"
     ]
    },
    {
     "name": "stderr",
     "output_type": "stream",
     "text": [
      "/Users/doublez/opt/anaconda3/lib/python3.7/site-packages/sklearn/neural_network/multilayer_perceptron.py:566: ConvergenceWarning: Stochastic Optimizer: Maximum iterations (200) reached and the optimization hasn't converged yet.\n",
      "  % self.max_iter, ConvergenceWarning)\n"
     ]
    }
   ],
   "source": [
    "'''建模及预测'''\n",
    "clf = MLPClassifier(hidden_layer_sizes=(100,),random_state=7)\n",
    "clf.fit(X_train, y_train)\n",
    "score = clf.score(X_test, y_test)\n",
    "print('score=',score)\n",
    "yhat = clf.predict(X_test)\n",
    "print(yhat)\n",
    "print(y_test)"
   ]
  },
  {
   "cell_type": "code",
   "execution_count": 5,
   "metadata": {},
   "outputs": [
    {
     "name": "stdout",
     "output_type": "stream",
     "text": [
      "              precision    recall  f1-score   support\n",
      "\n",
      "         0.0       0.64      0.82      0.72        17\n",
      "         1.0       0.83      0.65      0.73        23\n",
      "\n",
      "    accuracy                           0.73        40\n",
      "   macro avg       0.73      0.74      0.72        40\n",
      "weighted avg       0.75      0.72      0.73        40\n",
      "\n"
     ]
    }
   ],
   "source": [
    "from sklearn.metrics import classification_report\n",
    "print(classification_report(y_test,yhat))"
   ]
  },
  {
   "cell_type": "code",
   "execution_count": null,
   "metadata": {},
   "outputs": [],
   "source": [
    "'''数据可视化'''\n",
    "x_min, x_max, y_min, y_max = X[:,0].min()-.5, X[:,0].max()+.5, X[:,1].min()-.5, X[:,1].max()+.5\n",
    "h = .2\n",
    "xx, yy = np.meshgrid(np.arange(x_min,x_max,h),np.arange(y_min,y_max,h))\n",
    "from matplotlib import pyplot as plt\n",
    "from matplotlib.colors import ListedColormap\n",
    "cm = plt.cm.Accent\n",
    "cm_bright = ListedColormap(['#FF0000', '#0000FF'])\n",
    "Z = clf.predict_proba(np.c_[xx.ravel(),yy.ravel()])[:,1]\n",
    "Z = Z.reshape(xx.shape)\n",
    "ax = plt.subplot(1,1,1)\n",
    "CS = ax.contour(xx,yy,Z,4,color='k')\n",
    "ax.clabel(CS,fontsize=9,inline=1)\n",
    "# 画训练集点\n",
    "ax.scatter(X_train[:,0],X_train[:,1],c=y_train, cmap=cm_bright,edgecolors='black',s=25)\n",
    "# 画测试集点\n",
    "ax.scatter(X_test[:, 0], X_test[:, 1], c=y_test, cmap=cm_bright, alpha=0.3, edgecolors='black', s=25)\n",
    "ax.set_xlim(xx.min(),xx.max())\n",
    "ax.set_ylim(yy.min(),yy.ma)"
   ]
  }
 ],
 "metadata": {
  "kernelspec": {
   "display_name": "Python 3",
   "language": "python",
   "name": "python3"
  },
  "language_info": {
   "codemirror_mode": {
    "name": "ipython",
    "version": 3
   },
   "file_extension": ".py",
   "mimetype": "text/x-python",
   "name": "python",
   "nbconvert_exporter": "python",
   "pygments_lexer": "ipython3",
   "version": "3.7.4"
  },
  "toc": {
   "base_numbering": 1,
   "nav_menu": {},
   "number_sections": true,
   "sideBar": true,
   "skip_h1_title": false,
   "title_cell": "Table of Contents",
   "title_sidebar": "Contents",
   "toc_cell": false,
   "toc_position": {},
   "toc_section_display": true,
   "toc_window_display": false
  }
 },
 "nbformat": 4,
 "nbformat_minor": 2
}
